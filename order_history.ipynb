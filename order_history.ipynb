{
 "cells": [
  {
   "cell_type": "code",
   "execution_count": 14,
   "metadata": {},
   "outputs": [],
   "source": [
    "import pandas as pd\n",
    "import numpy as np\n",
    "%matplotlib inline \n",
    "import matplotlib.pyplot as plt\n",
    "import MetaTrader5 as mt5\n",
    "from account_credentials import LOGIN, PASSWORD, SERVER\n",
    "from datetime import datetime, timedelta"
   ]
  },
  {
   "cell_type": "code",
   "execution_count": 8,
   "metadata": {},
   "outputs": [
    {
     "name": "stdout",
     "output_type": "stream",
     "text": [
      "initialize:  True\n",
      "logged in:  True\n",
      "\n",
      "\n",
      "2023-04-12 07:25:20.154643 | Login:  114123121 | Balance:  485.37 | Equity:  485.37\n"
     ]
    }
   ],
   "source": [
    "is_initialized = mt5.initialize()\n",
    "print('initialize: ', is_initialized)\n",
    "\n",
    "is_logged_in = mt5.login(LOGIN, PASSWORD, SERVER)\n",
    "print('logged in: ', is_logged_in)\n",
    "print('\\n')\n",
    "account_info = mt5.account_info()\n",
    "print(datetime.now(),\n",
    "    '| Login: ', account_info.login,\n",
    "    '| Balance: ', account_info.balance,\n",
    "    '| Equity: ' , account_info.equity)"
   ]
  },
  {
   "cell_type": "code",
   "execution_count": 65,
   "metadata": {},
   "outputs": [
    {
     "name": "stdout",
     "output_type": "stream",
     "text": [
      "                   Time    Deal ID  Order Ticket  Type  Volume     Price   \n",
      "0   2023-03-23 01:46:47          0     143696145  Sell    0.00     0.000  \\\n",
      "1   2023-03-28 02:09:05  266948417     145348938   Buy    0.01  1960.969   \n",
      "2   2023-03-28 02:29:00  266953667     145353163   Buy    0.01  1960.427   \n",
      "3   2023-03-28 03:03:56  266962782     145360604   Buy    0.02  1961.108   \n",
      "4   2023-03-28 04:18:59  266982644     145377761  Sell    0.02  1958.718   \n",
      "..                  ...        ...           ...   ...     ...       ...   \n",
      "114 2023-04-11 05:18:21  273517404     149735923  Sell    0.01  2000.956   \n",
      "115 2023-04-11 12:00:01  273715435     149891150  Sell    0.01  2000.456   \n",
      "116 2023-04-11 13:00:07  273746044     149915456  Sell    0.01  1998.859   \n",
      "117 2023-04-11 13:10:08  273752357     149920531   Buy    0.01  1997.331   \n",
      "118 2023-04-11 13:55:01  273785085     149945300   Buy    0.01  2001.984   \n",
      "\n",
      "     Profit                       Comment   Magic  \n",
      "0    500.00  D-trial-USD-INT-98b2867537b3       0  \n",
      "1      0.00                       ML_lsvm  123999  \n",
      "2      0.00                       ML_lsvm  123999  \n",
      "3      0.00                                     0  \n",
      "4     -4.78                                     0  \n",
      "..      ...                           ...     ...  \n",
      "114    3.13                 [tp 2000.956]  123999  \n",
      "115    0.00                       ML_lsvm  123992  \n",
      "116    0.00                       ML_lsvm  123992  \n",
      "117    3.13                 [tp 1997.331]  123992  \n",
      "118   -3.12                 [sl 2001.984]  123992  \n",
      "\n",
      "[119 rows x 9 columns]\n"
     ]
    }
   ],
   "source": [
    "import MetaTrader5 as mt5\n",
    "from datetime import datetime, timedelta\n",
    "\n",
    "# connect to MetaTrader 5\n",
    "mt5.initialize()\n",
    "\n",
    "# set the time range for the history\n",
    "start_time = datetime.now() - timedelta(days=100)\n",
    "end_time = datetime.now()\n",
    "\n",
    "# retrieve the history\n",
    "history = mt5.history_deals_get(start_time, end_time)\n",
    "\n",
    "# Create an empty dataframe\n",
    "df = pd.DataFrame(columns=['Time','Deal ID', 'Order Ticket', 'Type', 'Volume', 'Price', 'Profit', 'Comment', 'Magic'])\n",
    "\n",
    "# Iterate through the trade history and create a list of dataframes\n",
    "dfs = []\n",
    "for deal in history:\n",
    "    row = {'Time': pd.Timestamp(deal.time, unit='s'),\n",
    "           'Deal ID': deal.order,\n",
    "           'Order Ticket': deal.ticket,\n",
    "           'Type': 'Buy' if deal.type == 0 else 'Sell',\n",
    "           'Volume': deal.volume,\n",
    "           'Price': deal.price,\n",
    "           'Profit': deal.profit,\n",
    "           'Comment': deal.comment,\n",
    "           'Magic': deal.magic}\n",
    "    dfs.append(pd.DataFrame(row, index=[0]))\n",
    "\n",
    "# Concatenate all dataframes into a single dataframe\n",
    "df = pd.concat(dfs, ignore_index=True)\n",
    "\n",
    "# Print the resulting dataframe\n",
    "print(df)\n",
    "\n"
   ]
  },
  {
   "cell_type": "code",
   "execution_count": 69,
   "metadata": {},
   "outputs": [
    {
     "name": "stdout",
     "output_type": "stream",
     "text": [
      "                   Time    Deal ID  Order Ticket  Type  Volume     Price   \n",
      "80  2023-03-31 07:19:03  268670643     146730069  Sell    0.01  1981.207  \\\n",
      "82  2023-03-31 11:29:47  268798170     146835994  Sell    0.01  1981.799   \n",
      "84  2023-03-31 19:05:11  269020107     147026872  Sell    0.01  1968.435   \n",
      "86  2023-04-03 01:45:13  269391156     147259605  Sell    0.01  1959.667   \n",
      "88  2023-04-03 08:22:51  269581073     147388957  Sell    0.01  1965.072   \n",
      "90  2023-04-03 10:12:41  269629594     147429873  Sell    0.01  1969.259   \n",
      "92  2023-04-03 11:31:40  269680116     147468589  Sell    0.01  1976.210   \n",
      "94  2023-04-03 13:31:12  269750718     147525083  Sell    0.01  1975.620   \n",
      "96  2023-04-03 15:31:01  269884319     147617571  Sell    0.01  1989.307   \n",
      "98  2023-04-04 14:00:09  270407933     147976264  Sell    0.01  1995.760   \n",
      "100 2023-04-04 15:30:20  270563300     148092273  Sell    0.01  2019.158   \n",
      "102 2023-04-04 16:07:56  270587467     148112967  Sell    0.01  2023.461   \n",
      "104 2023-04-05 07:28:01  270893288     148285729  Sell    0.01  2027.231   \n",
      "106 2023-04-05 13:20:46  271088279     148424867  Sell    0.01  2028.728   \n",
      "108 2023-04-06 17:36:29  271952543     148992698  Sell    0.01  2008.838   \n",
      "110 2023-04-10 00:30:29  272858212     149261409  Sell    0.01  2002.416   \n",
      "112 2023-04-10 12:16:10  273129966     149458549  Sell    0.01  1997.618   \n",
      "114 2023-04-11 05:18:21  273517404     149735923  Sell    0.01  2000.956   \n",
      "117 2023-04-11 13:10:08  273752357     149920531   Buy    0.01  1997.331   \n",
      "118 2023-04-11 13:55:01  273785085     149945300   Buy    0.01  2001.984   \n",
      "\n",
      "     Profit        Comment   Magic  \n",
      "80    -3.12  [sl 1981.207]  123999  \n",
      "82     3.13  [tp 1981.799]  123999  \n",
      "84    -3.12  [sl 1968.435]  123999  \n",
      "86    -3.12  [sl 1959.667]  123999  \n",
      "88     3.12  [tp 1965.072]  123999  \n",
      "90     3.13  [tp 1969.259]  123999  \n",
      "92     3.58  [tp 1975.758]  123999  \n",
      "94    -3.13  [sl 1975.620]  123999  \n",
      "96     3.13  [tp 1989.307]  123999  \n",
      "98     3.12  [tp 1995.760]  123999  \n",
      "100    3.13  [tp 2019.158]  123999  \n",
      "102    3.12  [tp 2023.461]  123999  \n",
      "104    3.12  [tp 2027.231]  123999  \n",
      "106   -3.12  [sl 2028.728]  123999  \n",
      "108   -3.12  [sl 2008.838]  123999  \n",
      "110   -3.12  [sl 2002.416]  123999  \n",
      "112   -3.12  [sl 1997.618]  123999  \n",
      "114    3.13  [tp 2000.956]  123999  \n",
      "117    3.13  [tp 1997.331]  123992  \n",
      "118   -3.12  [sl 2001.984]  123992  \n"
     ]
    }
   ],
   "source": [
    "df_adjust = df[(df['Profit'] != 0) & (df['Time'] > '2023-3-31')]\n",
    "print(df_adjust)\n",
    "df_adjust.to_csv('history_price.csv')"
   ]
  },
  {
   "cell_type": "code",
   "execution_count": 61,
   "metadata": {},
   "outputs": [
    {
     "data": {
      "text/html": [
       "<div>\n",
       "<style scoped>\n",
       "    .dataframe tbody tr th:only-of-type {\n",
       "        vertical-align: middle;\n",
       "    }\n",
       "\n",
       "    .dataframe tbody tr th {\n",
       "        vertical-align: top;\n",
       "    }\n",
       "\n",
       "    .dataframe thead th {\n",
       "        text-align: right;\n",
       "    }\n",
       "</style>\n",
       "<table border=\"1\" class=\"dataframe\">\n",
       "  <thead>\n",
       "    <tr style=\"text-align: right;\">\n",
       "      <th></th>\n",
       "      <th>Time</th>\n",
       "      <th>Deal ID</th>\n",
       "      <th>Order Ticket</th>\n",
       "      <th>Type</th>\n",
       "      <th>Volume</th>\n",
       "      <th>Price</th>\n",
       "      <th>Profit</th>\n",
       "      <th>Comment</th>\n",
       "      <th>Magic</th>\n",
       "    </tr>\n",
       "  </thead>\n",
       "  <tbody>\n",
       "  </tbody>\n",
       "</table>\n",
       "</div>"
      ],
      "text/plain": [
       "Empty DataFrame\n",
       "Columns: [Time, Deal ID, Order Ticket, Type, Volume, Price, Profit, Comment, Magic]\n",
       "Index: []"
      ]
     },
     "execution_count": 61,
     "metadata": {},
     "output_type": "execute_result"
    }
   ],
   "source": [
    "df = df[df['Time'] > '2022-01-01']\n",
    "df"
   ]
  },
  {
   "cell_type": "code",
   "execution_count": 62,
   "metadata": {},
   "outputs": [
    {
     "name": "stdout",
     "output_type": "stream",
     "text": [
      "        Time  Price\n",
      "2 2039-04-01    102\n"
     ]
    }
   ],
   "source": [
    "import pandas as pd\n",
    "\n",
    "# create example dataframe\n",
    "df = pd.DataFrame({\n",
    "    'Time': ['2039-03-30', '2039-03-31', '2039-04-01'],\n",
    "    'Price': [100, 101, 102]\n",
    "})\n",
    "\n",
    "# convert the 'Time' column to datetime format\n",
    "df['Time'] = pd.to_datetime(df['Time'])\n",
    "\n",
    "# filter by time > 2039-03-31\n",
    "filtered_df = df[df['Time'] > '2039-03-31']\n",
    "\n",
    "print(filtered_df)\n"
   ]
  }
 ],
 "metadata": {
  "kernelspec": {
   "display_name": "vbot2",
   "language": "python",
   "name": "python3"
  },
  "language_info": {
   "codemirror_mode": {
    "name": "ipython",
    "version": 3
   },
   "file_extension": ".py",
   "mimetype": "text/x-python",
   "name": "python",
   "nbconvert_exporter": "python",
   "pygments_lexer": "ipython3",
   "version": "3.9.13"
  },
  "orig_nbformat": 4
 },
 "nbformat": 4,
 "nbformat_minor": 2
}
