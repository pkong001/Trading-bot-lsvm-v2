{
 "cells": [
  {
   "cell_type": "code",
   "execution_count": null,
   "metadata": {},
   "outputs": [],
   "source": []
  },
  {
   "cell_type": "code",
   "execution_count": 2,
   "metadata": {},
   "outputs": [],
   "source": [
    "import MetaTrader5 as mt5\n",
    "import pandas as pd\n",
    "import time\n",
    "from datetime import datetime\n",
    "from account_credentials import LOGIN, PASSWORD, SERVER\n",
    "import plotly.express as px\n",
    "import numpy as np\n",
    "import logging"
   ]
  },
  {
   "attachments": {},
   "cell_type": "markdown",
   "metadata": {},
   "source": [
    "##### Importing the model"
   ]
  },
  {
   "cell_type": "code",
   "execution_count": 3,
   "metadata": {},
   "outputs": [],
   "source": [
    "import pickle\n",
    "import warnings\n",
    "\n",
    "# To ignore error on sklearn version, which proved irrelevant\n",
    "with warnings.catch_warnings():\n",
    "    warnings.simplefilter(\"ignore\")\n",
    "    lsvm_long = pickle.load(open('lsvm_xauusd_long.pkl','rb'))\n",
    "    lsvm_short = pickle.load(open('lsvm_xauusd_short.pkl','rb'))"
   ]
  },
  {
   "attachments": {},
   "cell_type": "markdown",
   "metadata": {},
   "source": [
    "##### Importing Scaler"
   ]
  },
  {
   "cell_type": "code",
   "execution_count": 4,
   "metadata": {},
   "outputs": [],
   "source": [
    "from joblib import load\n",
    "scaler = load('scaler_long.pkl')"
   ]
  },
  {
   "attachments": {},
   "cell_type": "markdown",
   "metadata": {},
   "source": [
    "##### Define Logging"
   ]
  },
  {
   "cell_type": "code",
   "execution_count": 5,
   "metadata": {},
   "outputs": [],
   "source": [
    "logging.basicConfig(\n",
    "    level=logging.DEBUG,\n",
    "    format=\"%(asctime)s %(levelname)s %(message)s\",\n",
    "    datefmt=\"%Y-%m-%d %H:%M:%S\",\n",
    "    handlers=[logging.FileHandler('bot_log.log', mode='a'), logging.StreamHandler()]\n",
    ")\n",
    "\n",
    "# Get the logger instance\n",
    "logger = logging.getLogger()"
   ]
  },
  {
   "attachments": {},
   "cell_type": "markdown",
   "metadata": {},
   "source": [
    "##### Define functions"
   ]
  },
  {
   "cell_type": "code",
   "execution_count": 6,
   "metadata": {},
   "outputs": [],
   "source": [
    "def check_allowed_trading_hours():\n",
    "    tick = mt5.symbol_info_tick(symbol)\n",
    "    # check the last price value to determine if the market is closed or available\n",
    "    if tick.time != 0:\n",
    "        market_status = True\n",
    "        #market open\n",
    "    else:\n",
    "        market_status = False\n",
    "        #market close\n",
    "    return market_status\n",
    "\n",
    "def market_order(symbol, volume, order_type, deviation=0, magic=123992):\n",
    "\n",
    "    order_type_dict = {\n",
    "        'buy': mt5.ORDER_TYPE_BUY,\n",
    "        'sell': mt5.ORDER_TYPE_SELL\n",
    "    }\n",
    "\n",
    "    price_dict = {\n",
    "        'buy': mt5.symbol_info_tick(symbol).ask,\n",
    "        'sell': mt5.symbol_info_tick(symbol).bid\n",
    "    }\n",
    "\n",
    "    if order_type == 'buy':\n",
    "        sl = mt5.symbol_info_tick(symbol).ask - (sl_price_range + spread)\n",
    "        tp = mt5.symbol_info_tick(symbol).ask + (tp_price_range + spread)\n",
    "    \n",
    "    if order_type == 'sell':\n",
    "        sl = mt5.symbol_info_tick(symbol).bid + (sl_price_range + spread)\n",
    "        tp = mt5.symbol_info_tick(symbol).bid - (tp_price_range + spread)\n",
    "\n",
    "    request = {\n",
    "        \"action\": mt5.TRADE_ACTION_DEAL,\n",
    "        \"symbol\": symbol,\n",
    "        \"volume\": volume,  # FLOAT\n",
    "        \"type\": order_type_dict[order_type],\n",
    "        \"price\": price_dict[order_type],\n",
    "        \"sl\": sl,  # FLOAT\n",
    "        \"tp\": tp,  # FLOAT\n",
    "        \"deviation\": deviation,  # INTERGER\n",
    "        \"magic\": magic,  # INTERGER\n",
    "        \"comment\": strategy_name,\n",
    "        \"type_time\": mt5.ORDER_TIME_GTC,\n",
    "        \"type_filling\": mt5.ORDER_FILLING_IOC,\n",
    "    }\n",
    "\n",
    "    order_result = mt5.order_send(request)\n",
    "    return(order_result)\n",
    "\n",
    "\n",
    "def close_position(position, deviation=0, magic=123992):\n",
    "\n",
    "    order_type_dict = {\n",
    "        0: mt5.ORDER_TYPE_SELL,\n",
    "        1: mt5.ORDER_TYPE_BUY\n",
    "    }\n",
    "\n",
    "    price_dict = {\n",
    "        0: mt5.symbol_info_tick(symbol).bid,\n",
    "        1: mt5.symbol_info_tick(symbol).ask\n",
    "    }\n",
    "\n",
    "    request = {\n",
    "        \"action\": mt5.TRADE_ACTION_DEAL,\n",
    "        \"position\": position['ticket'],  # select the position you want to close\n",
    "        \"symbol\": symbol,\n",
    "        \"volume\": volume,  # FLOAT\n",
    "        \"type\": order_type_dict[position['type']],\n",
    "        \"price\": price_dict[position['type']],\n",
    "        \"deviation\": deviation,  # INTERGER\n",
    "        \"magic\": magic,  # INTERGER\n",
    "        \"comment\": strategy_name,\n",
    "        \"type_time\": mt5.ORDER_TIME_GTC,\n",
    "        \"type_filling\": mt5.ORDER_FILLING_IOC,\n",
    "    }\n",
    "\n",
    "    order_result = mt5.order_send(request)\n",
    "    return(order_result)\n",
    "\n",
    "def close_positions(order_type):\n",
    "    order_type_dict = {\n",
    "        'buy': 0,\n",
    "        'sell': 1\n",
    "    }\n",
    "\n",
    "    if mt5.positions_total() > 0:\n",
    "        positions = mt5.positions_get()\n",
    "\n",
    "        positions_df = pd.DataFrame(positions, columns=positions[0]._asdict().keys())\n",
    "\n",
    "        if order_type != 'all':\n",
    "            positions_df = positions_df[(positions_df['type'] == order_type_dict[order_type])]\n",
    "\n",
    "        for i, position in positions_df.iterrows():\n",
    "            order_result = close_position(position)\n",
    "\n",
    "            logging.info('order_result: ', order_result)\n",
    "\n"
   ]
  },
  {
   "cell_type": "code",
   "execution_count": 8,
   "metadata": {},
   "outputs": [
    {
     "name": "stderr",
     "output_type": "stream",
     "text": [
      "2023-04-09 10:54:56 DEBUG Your already have a time_records file: CONTINUE\n"
     ]
    },
    {
     "name": "stdout",
     "output_type": "stream",
     "text": [
      "initialize:  True\n",
      "logged in:  True\n",
      "\n",
      "\n",
      "2023-04-09 10:54:56.048782 | Login:  114123121 | Balance:  488.47 | Equity:  488.47\n"
     ]
    },
    {
     "name": "stderr",
     "output_type": "stream",
     "text": [
      "2023-04-09 10:54:58 DEBUG Running\n",
      "2023-04-09 10:54:58 DEBUG Current Number of Positions: \u001b[1m0\u001b[0m (max:5) ||| Current Time: \u001b[1m2023-04-07 03:57:00\u001b[0m\n",
      "2023-04-09 10:54:58 DEBUG Complete candle >> Time: 2023-04-07 02:00:00, Open: 2009.232, High: 2009.432, Low: 2006.234, Close: 2006.455\n",
      "2023-04-09 10:54:58 DEBUG Current candle >> Time: 2023-04-07 03:00:00, Open: 2006.488, High: 2008.153, Low: 2005.789, Close: \u001b[1m2007.798\u001b[0m\n",
      "C:\\Users\\pkong\\AppData\\Local\\Temp\\ipykernel_17504\\4093524261.py:68: FutureWarning: Calling int on a single element Series is deprecated and will raise a TypeError in the future. Use int(ser.iloc[0]) instead\n",
      "  logging.debug(\"\\033[1mLastest Record Time: {0}\\033[0m ||| \\033[1mLastest Record Prediction {1}\\033[0m\".format(str(time_records['time_records'].tail(1)),int(time_records['prediction'].tail(1))))\n",
      "2023-04-09 10:54:58 DEBUG \u001b[1mLastest Record Time: 135    2023-04-07 02:00:00\n",
      "Name: time_records, dtype: object\u001b[0m ||| \u001b[1mLastest Record Prediction 0\u001b[0m\n"
     ]
    },
    {
     "name": "stdout",
     "output_type": "stream",
     "text": [
      "\n",
      "It's in the recorded\n"
     ]
    },
    {
     "name": "stderr",
     "output_type": "stream",
     "text": [
      "2023-04-09 10:54:59 DEBUG Current Number of Positions: \u001b[1m0\u001b[0m (max:5) ||| Current Time: \u001b[1m2023-04-07 03:57:00\u001b[0m\n",
      "2023-04-09 10:54:59 DEBUG Complete candle >> Time: 2023-04-07 02:00:00, Open: 2009.232, High: 2009.432, Low: 2006.234, Close: 2006.455\n",
      "2023-04-09 10:54:59 DEBUG Current candle >> Time: 2023-04-07 03:00:00, Open: 2006.488, High: 2008.153, Low: 2005.789, Close: \u001b[1m2007.798\u001b[0m\n",
      "C:\\Users\\pkong\\AppData\\Local\\Temp\\ipykernel_17504\\4093524261.py:68: FutureWarning: Calling int on a single element Series is deprecated and will raise a TypeError in the future. Use int(ser.iloc[0]) instead\n",
      "  logging.debug(\"\\033[1mLastest Record Time: {0}\\033[0m ||| \\033[1mLastest Record Prediction {1}\\033[0m\".format(str(time_records['time_records'].tail(1)),int(time_records['prediction'].tail(1))))\n",
      "2023-04-09 10:54:59 DEBUG \u001b[1mLastest Record Time: 135   2023-04-07 02:00:00\n",
      "Name: time_records, dtype: datetime64[ns]\u001b[0m ||| \u001b[1mLastest Record Prediction 0\u001b[0m\n"
     ]
    },
    {
     "name": "stdout",
     "output_type": "stream",
     "text": [
      "\n",
      "It's in the recorded\n"
     ]
    },
    {
     "name": "stderr",
     "output_type": "stream",
     "text": [
      "2023-04-09 10:55:00 DEBUG Current Number of Positions: \u001b[1m0\u001b[0m (max:5) ||| Current Time: \u001b[1m2023-04-07 03:57:00\u001b[0m\n",
      "2023-04-09 10:55:00 DEBUG Complete candle >> Time: 2023-04-07 02:00:00, Open: 2009.232, High: 2009.432, Low: 2006.234, Close: 2006.455\n",
      "2023-04-09 10:55:00 DEBUG Current candle >> Time: 2023-04-07 03:00:00, Open: 2006.488, High: 2008.153, Low: 2005.789, Close: \u001b[1m2007.798\u001b[0m\n",
      "C:\\Users\\pkong\\AppData\\Local\\Temp\\ipykernel_17504\\4093524261.py:68: FutureWarning: Calling int on a single element Series is deprecated and will raise a TypeError in the future. Use int(ser.iloc[0]) instead\n",
      "  logging.debug(\"\\033[1mLastest Record Time: {0}\\033[0m ||| \\033[1mLastest Record Prediction {1}\\033[0m\".format(str(time_records['time_records'].tail(1)),int(time_records['prediction'].tail(1))))\n",
      "2023-04-09 10:55:00 DEBUG \u001b[1mLastest Record Time: 135   2023-04-07 02:00:00\n",
      "Name: time_records, dtype: datetime64[ns]\u001b[0m ||| \u001b[1mLastest Record Prediction 0\u001b[0m\n"
     ]
    },
    {
     "name": "stdout",
     "output_type": "stream",
     "text": [
      "\n",
      "It's in the recorded\n"
     ]
    },
    {
     "name": "stderr",
     "output_type": "stream",
     "text": [
      "2023-04-09 10:55:01 DEBUG Current Number of Positions: \u001b[1m0\u001b[0m (max:5) ||| Current Time: \u001b[1m2023-04-07 03:57:00\u001b[0m\n",
      "2023-04-09 10:55:01 DEBUG Complete candle >> Time: 2023-04-07 02:00:00, Open: 2009.232, High: 2009.432, Low: 2006.234, Close: 2006.455\n",
      "2023-04-09 10:55:01 DEBUG Current candle >> Time: 2023-04-07 03:00:00, Open: 2006.488, High: 2008.153, Low: 2005.789, Close: \u001b[1m2007.798\u001b[0m\n",
      "C:\\Users\\pkong\\AppData\\Local\\Temp\\ipykernel_17504\\4093524261.py:68: FutureWarning: Calling int on a single element Series is deprecated and will raise a TypeError in the future. Use int(ser.iloc[0]) instead\n",
      "  logging.debug(\"\\033[1mLastest Record Time: {0}\\033[0m ||| \\033[1mLastest Record Prediction {1}\\033[0m\".format(str(time_records['time_records'].tail(1)),int(time_records['prediction'].tail(1))))\n",
      "2023-04-09 10:55:01 DEBUG \u001b[1mLastest Record Time: 135   2023-04-07 02:00:00\n",
      "Name: time_records, dtype: datetime64[ns]\u001b[0m ||| \u001b[1mLastest Record Prediction 0\u001b[0m\n"
     ]
    },
    {
     "name": "stdout",
     "output_type": "stream",
     "text": [
      "\n",
      "It's in the recorded\n"
     ]
    },
    {
     "name": "stderr",
     "output_type": "stream",
     "text": [
      "2023-04-09 10:55:02 DEBUG Current Number of Positions: \u001b[1m0\u001b[0m (max:5) ||| Current Time: \u001b[1m2023-04-07 03:57:00\u001b[0m\n",
      "2023-04-09 10:55:02 DEBUG Complete candle >> Time: 2023-04-07 02:00:00, Open: 2009.232, High: 2009.432, Low: 2006.234, Close: 2006.455\n",
      "2023-04-09 10:55:02 DEBUG Current candle >> Time: 2023-04-07 03:00:00, Open: 2006.488, High: 2008.153, Low: 2005.789, Close: \u001b[1m2007.798\u001b[0m\n",
      "C:\\Users\\pkong\\AppData\\Local\\Temp\\ipykernel_17504\\4093524261.py:68: FutureWarning: Calling int on a single element Series is deprecated and will raise a TypeError in the future. Use int(ser.iloc[0]) instead\n",
      "  logging.debug(\"\\033[1mLastest Record Time: {0}\\033[0m ||| \\033[1mLastest Record Prediction {1}\\033[0m\".format(str(time_records['time_records'].tail(1)),int(time_records['prediction'].tail(1))))\n",
      "2023-04-09 10:55:02 DEBUG \u001b[1mLastest Record Time: 135   2023-04-07 02:00:00\n",
      "Name: time_records, dtype: datetime64[ns]\u001b[0m ||| \u001b[1mLastest Record Prediction 0\u001b[0m\n"
     ]
    },
    {
     "name": "stdout",
     "output_type": "stream",
     "text": [
      "\n",
      "It's in the recorded\n"
     ]
    },
    {
     "name": "stderr",
     "output_type": "stream",
     "text": [
      "2023-04-09 10:55:03 DEBUG Current Number of Positions: \u001b[1m0\u001b[0m (max:5) ||| Current Time: \u001b[1m2023-04-07 03:57:00\u001b[0m\n",
      "2023-04-09 10:55:03 DEBUG Complete candle >> Time: 2023-04-07 02:00:00, Open: 2009.232, High: 2009.432, Low: 2006.234, Close: 2006.455\n",
      "2023-04-09 10:55:03 DEBUG Current candle >> Time: 2023-04-07 03:00:00, Open: 2006.488, High: 2008.153, Low: 2005.789, Close: \u001b[1m2007.798\u001b[0m\n",
      "C:\\Users\\pkong\\AppData\\Local\\Temp\\ipykernel_17504\\4093524261.py:68: FutureWarning: Calling int on a single element Series is deprecated and will raise a TypeError in the future. Use int(ser.iloc[0]) instead\n",
      "  logging.debug(\"\\033[1mLastest Record Time: {0}\\033[0m ||| \\033[1mLastest Record Prediction {1}\\033[0m\".format(str(time_records['time_records'].tail(1)),int(time_records['prediction'].tail(1))))\n",
      "2023-04-09 10:55:03 DEBUG \u001b[1mLastest Record Time: 135   2023-04-07 02:00:00\n",
      "Name: time_records, dtype: datetime64[ns]\u001b[0m ||| \u001b[1mLastest Record Prediction 0\u001b[0m\n"
     ]
    },
    {
     "name": "stdout",
     "output_type": "stream",
     "text": [
      "\n",
      "It's in the recorded\n"
     ]
    },
    {
     "name": "stderr",
     "output_type": "stream",
     "text": [
      "2023-04-09 10:55:04 DEBUG Current Number of Positions: \u001b[1m0\u001b[0m (max:5) ||| Current Time: \u001b[1m2023-04-07 03:57:00\u001b[0m\n",
      "2023-04-09 10:55:04 DEBUG Complete candle >> Time: 2023-04-07 02:00:00, Open: 2009.232, High: 2009.432, Low: 2006.234, Close: 2006.455\n",
      "2023-04-09 10:55:04 DEBUG Current candle >> Time: 2023-04-07 03:00:00, Open: 2006.488, High: 2008.153, Low: 2005.789, Close: \u001b[1m2007.798\u001b[0m\n",
      "C:\\Users\\pkong\\AppData\\Local\\Temp\\ipykernel_17504\\4093524261.py:68: FutureWarning: Calling int on a single element Series is deprecated and will raise a TypeError in the future. Use int(ser.iloc[0]) instead\n",
      "  logging.debug(\"\\033[1mLastest Record Time: {0}\\033[0m ||| \\033[1mLastest Record Prediction {1}\\033[0m\".format(str(time_records['time_records'].tail(1)),int(time_records['prediction'].tail(1))))\n",
      "2023-04-09 10:55:04 DEBUG \u001b[1mLastest Record Time: 135   2023-04-07 02:00:00\n",
      "Name: time_records, dtype: datetime64[ns]\u001b[0m ||| \u001b[1mLastest Record Prediction 0\u001b[0m\n"
     ]
    },
    {
     "name": "stdout",
     "output_type": "stream",
     "text": [
      "\n",
      "It's in the recorded\n"
     ]
    },
    {
     "name": "stderr",
     "output_type": "stream",
     "text": [
      "2023-04-09 10:55:05 DEBUG Current Number of Positions: \u001b[1m0\u001b[0m (max:5) ||| Current Time: \u001b[1m2023-04-07 03:57:00\u001b[0m\n",
      "2023-04-09 10:55:05 DEBUG Complete candle >> Time: 2023-04-07 02:00:00, Open: 2009.232, High: 2009.432, Low: 2006.234, Close: 2006.455\n",
      "2023-04-09 10:55:05 DEBUG Current candle >> Time: 2023-04-07 03:00:00, Open: 2006.488, High: 2008.153, Low: 2005.789, Close: \u001b[1m2007.798\u001b[0m\n",
      "C:\\Users\\pkong\\AppData\\Local\\Temp\\ipykernel_17504\\4093524261.py:68: FutureWarning: Calling int on a single element Series is deprecated and will raise a TypeError in the future. Use int(ser.iloc[0]) instead\n",
      "  logging.debug(\"\\033[1mLastest Record Time: {0}\\033[0m ||| \\033[1mLastest Record Prediction {1}\\033[0m\".format(str(time_records['time_records'].tail(1)),int(time_records['prediction'].tail(1))))\n",
      "2023-04-09 10:55:05 DEBUG \u001b[1mLastest Record Time: 135   2023-04-07 02:00:00\n",
      "Name: time_records, dtype: datetime64[ns]\u001b[0m ||| \u001b[1mLastest Record Prediction 0\u001b[0m\n"
     ]
    },
    {
     "name": "stdout",
     "output_type": "stream",
     "text": [
      "\n",
      "It's in the recorded\n"
     ]
    },
    {
     "ename": "KeyboardInterrupt",
     "evalue": "",
     "output_type": "error",
     "traceback": [
      "\u001b[1;31m---------------------------------------------------------------------------\u001b[0m",
      "\u001b[1;31mKeyboardInterrupt\u001b[0m                         Traceback (most recent call last)",
      "Cell \u001b[1;32mIn[8], line 164\u001b[0m\n\u001b[0;32m    154\u001b[0m             \u001b[39mpass\u001b[39;00m\n\u001b[0;32m    155\u001b[0m         \u001b[39m### ---------------------------------------------------------------------------------\u001b[39;00m\n\u001b[0;32m    156\u001b[0m \n\u001b[0;32m    157\u001b[0m         \u001b[39m###HW Model LSVM BUY & SELL ----------------------------------------------------------------\u001b[39;00m\n\u001b[1;32m   (...)\u001b[0m\n\u001b[0;32m    161\u001b[0m     \u001b[39m###HW ใส่ elif ว่า record แล้ว( if in time_records) แล้ว len ดู ข้อมูลตัวสุดท้ายใน df ว่า prediction เป็นเท่าไร แบบว่า ชั่วโมงนี้ predict ไปแล้วนะเว้ย ซึง เท่ากับ 1 หรือ 0 ก็ว่าไป\u001b[39;00m\n\u001b[0;32m    162\u001b[0m         \u001b[39m#CODE HERE\u001b[39;00m\n\u001b[1;32m--> 164\u001b[0m     time\u001b[39m.\u001b[39;49msleep(\u001b[39m1\u001b[39;49m)\n\u001b[0;32m    165\u001b[0m \u001b[39melse\u001b[39;00m:\n\u001b[0;32m    166\u001b[0m     \u001b[39mraise\u001b[39;00m \u001b[39mValueError\u001b[39;00m(\u001b[39m'\u001b[39m\u001b[39mFailed on Checking market status\u001b[39m\u001b[39m'\u001b[39m)\n",
      "\u001b[1;31mKeyboardInterrupt\u001b[0m: "
     ]
    }
   ],
   "source": [
    "symbol = 'XAUUSD'\n",
    "timeframe = mt5.TIMEFRAME_H1\n",
    "volume = 0.01\n",
    "strategy_name = 'ML_lsvm'\n",
    "sl_price_range = 3\n",
    "tp_price_range = 3\n",
    "spread = .125\n",
    "deviation_delayed_trade = 0.300 #abs(current close price - previous complete close price) for example |1900.000 -1901.111| = 1.111\n",
    "num_positions_max = 5\n",
    "\n",
    "is_initialized = mt5.initialize()\n",
    "print('initialize: ', is_initialized)\n",
    "is_logged_in = mt5.login(LOGIN, PASSWORD, SERVER)\n",
    "print('logged in: ', is_logged_in)\n",
    "print('\\n')\n",
    "account_info = mt5.account_info()\n",
    "print(datetime.now(),\n",
    "    '| Login: ', account_info.login,\n",
    "    '| Balance: ', account_info.balance,\n",
    "    '| Equity: ' , account_info.equity)\n",
    "\n",
    "try:\n",
    "    time_records = pd.read_csv('time_records_v2.csv')\n",
    "    logging.debug('Your already have a time_records file: CONTINUE')\n",
    "except:\n",
    "    price_data = mt5.copy_rates_from_pos(symbol, timeframe, 0, 2)[0]\n",
    "    open_price = price_data[1]\n",
    "    high_price = price_data[2]\n",
    "    low_price = price_data[3]\n",
    "    close_price = price_data[4]\n",
    "    time_trade = datetime.fromtimestamp(price_data[0])\n",
    "\n",
    "    time_records = [time_trade]\n",
    "    records_df = pd.DataFrame({'time_records': time_records})\n",
    "    records_df.to_csv('time_records_v2.csv', index = False)\n",
    "    logging.debug('Created a time_records file')\n",
    "\n",
    "time.sleep(2) # wait for server to start\n",
    "logging.debug('Running')\n",
    "\n",
    "while True:\n",
    "\n",
    "    print()\n",
    "    num_positions = mt5.positions_total()\n",
    "    current_time = mt5.copy_rates_from_pos(symbol,mt5.TIMEFRAME_M1,0,1)\n",
    "    current_time = datetime.fromtimestamp(current_time[0][0])\n",
    "    logging.debug('Current Number of Positions: \\033[1m{0}\\033[0m (max:{1}) ||| Current Time: \\033[1m{2}\\033[0m'.format(num_positions,num_positions_max,current_time))\n",
    "\n",
    "\n",
    "\n",
    "    if check_allowed_trading_hours() == False:\n",
    "        if num_positions > 0:\n",
    "            close_position('all')\n",
    "            logging.debug('Closed all position')\n",
    "\n",
    "    elif check_allowed_trading_hours() == True:\n",
    "        # get the latest completed bar ( position [0])\n",
    "        price_data = mt5.copy_rates_from_pos(symbol, timeframe, 0, 2)[0] \n",
    "        current_candle = mt5.copy_rates_from_pos(symbol, timeframe, 0, 2)[1]\n",
    "        open = price_data[1]\n",
    "        high = price_data[2]\n",
    "        low = price_data[3]\n",
    "        close = price_data[4] #This is all bid price on both completed and current candlestick\n",
    "        time_trade = datetime.fromtimestamp(price_data[0])\n",
    "        \n",
    "        logging.debug(\"Complete candle >> Time: {0}, Open: {1}, High: {2}, Low: {3}, Close: {4}\".format(time_trade,price_data[1],price_data[2],price_data[3],price_data[4]))\n",
    "        logging.debug(\"Current candle >> Time: {0}, Open: {1}, High: {2}, Low: {3}, Close: \\033[1m{4}\\033[0m\".format(datetime.fromtimestamp(current_candle[0]),current_candle[1],current_candle[2],current_candle[3],current_candle[4]))\n",
    "        logging.debug(\"\\033[1mLastest Record Time: {0}\\033[0m ||| \\033[1mLastest Record Prediction {1}\\033[0m\".format(str(time_records['time_records'].tail(1)),int(time_records['prediction'].tail(1))))\n",
    "        # HW logging price here\n",
    "\n",
    "        # Adjust time_trade format\n",
    "        time_trade_str = time_trade.strftime('%Y-%m-%d %H:%M:%S')\n",
    "        time_trade_ts = pd.Timestamp(time_trade_str)\n",
    "        rounded_time_trade = time_trade_ts.floor('H')\n",
    "        # Adjust imported time_records format\n",
    "        try:\n",
    "            time_records['time_records'] = pd.to_datetime(time_records['time_records'], format='%m/%d/%Y %H:%M')\n",
    "            rounded_time_records = time_records['time_records'].dt.floor('H')\n",
    "        except:\n",
    "            try:\n",
    "                time_records['time_records'] = pd.to_datetime(time_records['time_records'], format='%Y/%m/%d %H:%M:%S')\n",
    "                rounded_time_records = time_records['time_records'].dt.floor('H')\n",
    "            except:\n",
    "                time_records['time_records'] = pd.to_datetime(time_records['time_records'], format='%Y-%m-%d %H:%M:%S')\n",
    "                rounded_time_records = time_records['time_records'].dt.floor('H')\n",
    "\n",
    "\n",
    "        # temp check\n",
    "        if rounded_time_trade not in rounded_time_records.values:\n",
    "            print(\"It's not in  SO LET TRADE\")\n",
    "            #print(rounded_time_trade)\n",
    "        else:\n",
    "            print(\"It's in the recorded\")\n",
    "            #print(rounded_time_trade)\n",
    "\n",
    "        ### Model LSVM BUY----------------------------------------------------------------\n",
    "        if (rounded_time_trade not in rounded_time_records.values) and (num_positions <= 5):\n",
    "            prediction_long =\n",
    "            logging.info('prediction_long: {0}'.format(prediction))\n",
    "            prediction_short =\n",
    "            logging.info('prediction_short: {0}'.format(prediction))\n",
    "\n",
    "            if prediction == 1:\n",
    "                if abs(price_data[4] - current_candle[4]) > deviation_delayed_trade:\n",
    "                    logging.info(\"Deviation = {0} >>> No Trade, close price is out of deviation, wait for completed candle in the next hour\".format((price_data[4] - current_candle[4])))\n",
    "                elif abs(price_data[4] - current_candle[4]) <= deviation_delayed_trade:\n",
    "                    order_result = market_order(symbol, volume, 'buy')\n",
    "                    if order_result.retcode == mt5.TRADE_RETCODE_DONE: # check if trading order is successful\n",
    "                        logging.info(\"Deviation = {0} >>> Made a trade at: {1}\".format(abs(price_data[4] - current_candle[4]), time_trade))\n",
    "                        new_row = pd.DataFrame({'time_records':[time_trade],\n",
    "                                                'open':[open],\n",
    "                                                'high':[high],\n",
    "                                                'low':[low],\n",
    "                                                'close':[close],\n",
    "                                                'prediction':[prediction],\n",
    "                                                'ticket':[order_result.order],\n",
    "                                                'order price':[order_result[4]]})\n",
    "                        time_records = pd.concat([time_records, new_row], axis=0) # love .append T.T\n",
    "                        time_records.to_csv('time_records.csv', index = False) # record traded order by timestamp\n",
    "                        #HW RECORD OPEN HIGH LOW CLOSE, PREDICTION TO CS\n",
    "                    else:\n",
    "                        \"Sending order is not successful\"\n",
    "            \n",
    "            if prediction == 0:\n",
    "                new_row = pd.DataFrame({'time_records':[time_trade],\n",
    "                                                'open':[open],\n",
    "                                                'high':[high],\n",
    "                                                'low':[low],\n",
    "                                                'close':[close],\n",
    "                                                'prediction':[prediction],\n",
    "                                                'ticket':['none'],\n",
    "                                                'order price':['none']})\n",
    "                time_records = pd.concat([time_records, new_row], axis=0)\n",
    "                time_records.to_csv('time_records.csv', index = False)\n",
    "                pass\n",
    "            ### ---------------------------------------------------------------------------------\n",
    "\n",
    "            ###HW Model LSVM BUY & SELL ----------------------------------------------------------------\n",
    "            ### ---------------------------------------------------------------------------------\n",
    "\n",
    "\n",
    "        ###HW ใส่ elif ว่า record แล้ว( if in time_records) แล้ว len ดู ข้อมูลตัวสุดท้ายใน df ว่า prediction เป็นเท่าไร แบบว่า ชั่วโมงนี้ predict ไปแล้วนะเว้ย ซึง เท่ากับ 1 หรือ 0 ก็ว่าไป\n",
    "            #CODE HERE\n",
    "\n",
    "        time.sleep(1)\n",
    "    else:\n",
    "        raise ValueError('Failed on Checking market status')\n",
    "\n"
   ]
  },
  {
   "cell_type": "code",
   "execution_count": 15,
   "metadata": {},
   "outputs": [
    {
     "name": "stdout",
     "output_type": "stream",
     "text": [
      "[[2009.232 2009.432 2006.234 2006.455]]\n"
     ]
    },
    {
     "data": {
      "text/plain": [
       "array([[2.87559643, 2.82995723, 2.8819897 , 2.83320388]])"
      ]
     },
     "execution_count": 15,
     "metadata": {},
     "output_type": "execute_result"
    }
   ],
   "source": [
    "data = np.array([[open, high, low, close]]) # use this np.array instead of reshape\n",
    "print(data)\n",
    "data_scaled = scaler.transform(data)\n",
    "data_scaled"
   ]
  },
  {
   "cell_type": "code",
   "execution_count": 18,
   "metadata": {},
   "outputs": [
    {
     "name": "stdout",
     "output_type": "stream",
     "text": [
      "[0]\n",
      "[1]\n"
     ]
    }
   ],
   "source": [
    "prediction_long = lsvm_long.predict(data_scaled)\n",
    "prediction_short = lsvm_short.predict(data_scaled)\n",
    "print(prediction_long)\n",
    "print(prediction_short)"
   ]
  }
 ],
 "metadata": {
  "kernelspec": {
   "display_name": "vbot",
   "language": "python",
   "name": "python3"
  },
  "language_info": {
   "codemirror_mode": {
    "name": "ipython",
    "version": 3
   },
   "file_extension": ".py",
   "mimetype": "text/x-python",
   "name": "python",
   "nbconvert_exporter": "python",
   "pygments_lexer": "ipython3",
   "version": "3.9.13"
  },
  "orig_nbformat": 4,
  "vscode": {
   "interpreter": {
    "hash": "7c3c428b29d2f3a7c57eeba62098561564352dbb27b5371383afb6bfd38b6566"
   }
  }
 },
 "nbformat": 4,
 "nbformat_minor": 2
}
